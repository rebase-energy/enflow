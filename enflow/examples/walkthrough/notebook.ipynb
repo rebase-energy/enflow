{
 "cells": [
  {
   "cell_type": "code",
   "execution_count": null,
   "metadata": {},
   "outputs": [],
   "source": [
    "import pandas as pd\n",
    "import gymnasium as gym\n",
    "import enflow as ef\n",
    "\n",
    "# Load data\n",
    "df = pd.read_csv(\"data.csv\")\n",
    "\n",
    "# 1) Define the energy system\n",
    "pvsystem = ef.PVSystem(capacity=2400, surface_azimuth=180, surface_tilt=25, timeseries=ef.TimeSeries(df=df, column=\"pv_power\"))\n",
    "windturbine = ef.WindTurbine(capacity=3200, hub_height=120, rotor_diameter=100, timeseries=ef.TimeSeries(df=df, column=\"wind_power\"))\n",
    "demand = ef.ElectricityDemand(df=df, column=\"demand\")\n",
    "battery = ef.Battery(storage_capacity=1000, min_soc=150, max_charge=500, max_discharge=500)\n",
    "\n",
    "microgrid = ef.MicroGrid(assets=[pvsystem, windturbine, demand, battery], latitude=46, longitude=64)\n",
    "\n",
    "dataset = ef.Dataset(data={\"data\": df}, energysystem=microgrid)\n",
    "\n",
    "# 2) Define state, action and exogenous spaces\n",
    "state_space = gym.spaces.Dict(...)\n",
    "action_space = gym.spaces.Dict(...)\n",
    "exogenous_space = gym.spaces.Dict(...)\n",
    "\n",
    "# 3) Define the environment\n",
    "class MicroGridEnv(gym.Env):\n",
    "    def __init__():\n",
    "        self.state_space = state_space\n",
    "        self.action = action\n",
    "        self.exogenous = exogenous\n",
    "    def reset():  \n",
    "        ...\n",
    "    def step():  \n",
    "        ...\n",
    "env = MicroGridEnv(dataset=dataset)\n",
    "\n",
    "# 4) Define the cost (or contribution)\n",
    "class Cost(ef.Objective):\n",
    "    ...\n",
    "cost = Cost()\n",
    "\n",
    "# 5) Define the agent to operate in environment\n",
    "class Agent(ef.Agent):\n",
    "    ... \n",
    "agent = Agent()\n",
    "\n",
    "# 6) Run the agent and evaluate performance\n",
    "state = env.reset()\n",
    "while done is not True:\n",
    "    action = agent.act(state)\n",
    "    state, exogeneous, done, info = env.step(action)\n",
    "    revenue = scorer.calculate(state, action, exogeneous)\n",
    "\n",
    "env.close()"
   ]
  }
 ],
 "metadata": {
  "kernelspec": {
   "display_name": ".venv_enflow",
   "language": "python",
   "name": "python3"
  },
  "language_info": {
   "name": "python",
   "version": "3.11.4"
  }
 },
 "nbformat": 4,
 "nbformat_minor": 2
}
